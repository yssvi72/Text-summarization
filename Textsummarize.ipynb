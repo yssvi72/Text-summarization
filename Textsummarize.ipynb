{
 "cells": [
  {
   "cell_type": "code",
   "execution_count": 1,
   "id": "246a57b6-66e1-4649-ba81-cf1ceef670df",
   "metadata": {},
   "outputs": [],
   "source": [
    "article_text=\" Climate change, driven primarily by human activities such as the combustion of fossil fuels and deforestation, is a critical and escalating global challenge with far-reaching consequences. The scientific community widely acknowledges that rising global temperatures, altered precipitation patterns, and the increasing frequency of extreme weather events are significantly impacting ecosystems and biodiversity. Changes in temperature and weather patterns disrupt the delicate balance of ecosystems, leading to shifts in the distribution and behavior of numerous species. As temperatures rise, many organisms are forced to migrate to more suitable habitats, while others face challenges in adapting to the changing conditions. Additionally, the acidification of oceans and the melting of polar ice caps further exacerbate the plight of marine species, threatening delicate ecosystems such as coral reefs. These alterations in environmental conditions not only endanger individual species but also disrupt intricate ecological relationships, potentially triggering cascading effects throughout entire food webs. Consequently, the loss of biodiversity is not only an environmental concern but also poses risks to human well-being, as ecosystems provide essential services such as clean water, pollination of crops, and regulation of climate. As scientists strive to comprehend the multifaceted consequences of climate change on global biodiversity, urgent and collaborative efforts are required to mitigate its impacts and promote sustainable practices that ensure the resilience of ecosystems and the preservation of Earth's rich biological heritage.\""
   ]
  },
  {
   "cell_type": "code",
   "execution_count": 3,
   "id": "9fa346f4-019a-445d-9410-b869bf6f9f03",
   "metadata": {},
   "outputs": [],
   "source": [
    "import re\n",
    "import nltk"
   ]
  },
  {
   "cell_type": "code",
   "execution_count": 4,
   "id": "52359c4b-2a35-4b90-a34d-d27dd23bcb03",
   "metadata": {},
   "outputs": [
    {
     "data": {
      "text/plain": [
       "\" climate change, driven primarily by human activities such as the combustion of fossil fuels and deforestation, is a critical and escalating global challenge with far-reaching consequences. the scientific community widely acknowledges that rising global temperatures, altered precipitation patterns, and the increasing frequency of extreme weather events are significantly impacting ecosystems and biodiversity. changes in temperature and weather patterns disrupt the delicate balance of ecosystems, leading to shifts in the distribution and behavior of numerous species. as temperatures rise, many organisms are forced to migrate to more suitable habitats, while others face challenges in adapting to the changing conditions. additionally, the acidification of oceans and the melting of polar ice caps further exacerbate the plight of marine species, threatening delicate ecosystems such as coral reefs. these alterations in environmental conditions not only endanger individual species but also disrupt intricate ecological relationships, potentially triggering cascading effects throughout entire food webs. consequently, the loss of biodiversity is not only an environmental concern but also poses risks to human well-being, as ecosystems provide essential services such as clean water, pollination of crops, and regulation of climate. as scientists strive to comprehend the multifaceted consequences of climate change on global biodiversity, urgent and collaborative efforts are required to mitigate its impacts and promote sustainable practices that ensure the resilience of ecosystems and the preservation of earth's rich biological heritage.\""
      ]
     },
     "execution_count": 4,
     "metadata": {},
     "output_type": "execute_result"
    }
   ],
   "source": [
    "article_text = article_text.lower()\n",
    "article_text"
   ]
  },
  {
   "cell_type": "code",
   "execution_count": 5,
   "id": "88ac4dac-8990-410c-9e1f-00da8b5c98e7",
   "metadata": {},
   "outputs": [
    {
     "data": {
      "text/plain": [
       "' climate change driven primarily by human activities such as the combustion of fossil fuels and deforestation is a critical and escalating global challenge with far reaching consequences the scientific community widely acknowledges that rising global temperatures altered precipitation patterns and the increasing frequency of extreme weather events are significantly impacting ecosystems and biodiversity changes in temperature and weather patterns disrupt the delicate balance of ecosystems leading to shifts in the distribution and behavior of numerous species as temperatures rise many organisms are forced to migrate to more suitable habitats while others face challenges in adapting to the changing conditions additionally the acidification of oceans and the melting of polar ice caps further exacerbate the plight of marine species threatening delicate ecosystems such as coral reefs these alterations in environmental conditions not only endanger individual species but also disrupt intricate ecological relationships potentially triggering cascading effects throughout entire food webs consequently the loss of biodiversity is not only an environmental concern but also poses risks to human well being as ecosystems provide essential services such as clean water pollination of crops and regulation of climate as scientists strive to comprehend the multifaceted consequences of climate change on global biodiversity urgent and collaborative efforts are required to mitigate its impacts and promote sustainable practices that ensure the resilience of ecosystems and the preservation of earth s rich biological heritage '"
      ]
     },
     "execution_count": 5,
     "metadata": {},
     "output_type": "execute_result"
    }
   ],
   "source": [
    "# remove spaces, punctuations and numbers\n",
    "clean_text = re.sub('[^a-zA-Z]', ' ', article_text)\n",
    "clean_text = re.sub('\\s+', ' ', clean_text)\n",
    "clean_text"
   ]
  },
  {
   "cell_type": "code",
   "execution_count": 7,
   "id": "1742605e-0ad5-4731-ac19-d1f8469d5e12",
   "metadata": {},
   "outputs": [
    {
     "name": "stderr",
     "output_type": "stream",
     "text": [
      "[nltk_data] Downloading package punkt to\n",
      "[nltk_data]     C:\\Users\\Yashyashsvi\\AppData\\Roaming\\nltk_data...\n",
      "[nltk_data]   Unzipping tokenizers\\punkt.zip.\n"
     ]
    },
    {
     "data": {
      "text/plain": [
       "True"
      ]
     },
     "execution_count": 7,
     "metadata": {},
     "output_type": "execute_result"
    }
   ],
   "source": [
    "import nltk\n",
    "\n",
    "# Download the 'punkt' resource\n",
    "nltk.download('punkt')"
   ]
  },
  {
   "cell_type": "code",
   "execution_count": 8,
   "id": "1bb5e31d-771a-4c42-821e-f749a8c8b5fa",
   "metadata": {},
   "outputs": [
    {
     "name": "stdout",
     "output_type": "stream",
     "text": [
      "[' climate change, driven primarily by human activities such as the combustion of fossil fuels and deforestation, is a critical and escalating global challenge with far-reaching consequences.', 'the scientific community widely acknowledges that rising global temperatures, altered precipitation patterns, and the increasing frequency of extreme weather events are significantly impacting ecosystems and biodiversity.', 'changes in temperature and weather patterns disrupt the delicate balance of ecosystems, leading to shifts in the distribution and behavior of numerous species.', 'as temperatures rise, many organisms are forced to migrate to more suitable habitats, while others face challenges in adapting to the changing conditions.', 'additionally, the acidification of oceans and the melting of polar ice caps further exacerbate the plight of marine species, threatening delicate ecosystems such as coral reefs.', 'these alterations in environmental conditions not only endanger individual species but also disrupt intricate ecological relationships, potentially triggering cascading effects throughout entire food webs.', 'consequently, the loss of biodiversity is not only an environmental concern but also poses risks to human well-being, as ecosystems provide essential services such as clean water, pollination of crops, and regulation of climate.', \"as scientists strive to comprehend the multifaceted consequences of climate change on global biodiversity, urgent and collaborative efforts are required to mitigate its impacts and promote sustainable practices that ensure the resilience of ecosystems and the preservation of earth's rich biological heritage.\"]\n"
     ]
    }
   ],
   "source": [
    "sentence_list = nltk.sent_tokenize(article_text)\n",
    "print(sentence_list) "
   ]
  },
  {
   "cell_type": "code",
   "execution_count": 10,
   "id": "59c1be69-2731-4d8c-a312-dc1a5d73bcdf",
   "metadata": {},
   "outputs": [
    {
     "name": "stderr",
     "output_type": "stream",
     "text": [
      "[nltk_data] Downloading package stopwords to\n",
      "[nltk_data]     C:\\Users\\Yashyashsvi\\AppData\\Roaming\\nltk_data...\n",
      "[nltk_data]   Unzipping corpora\\stopwords.zip.\n"
     ]
    },
    {
     "data": {
      "text/plain": [
       "True"
      ]
     },
     "execution_count": 10,
     "metadata": {},
     "output_type": "execute_result"
    }
   ],
   "source": [
    "## run this cell once to download stopwords\n",
    "import nltk\n",
    "nltk.download('stopwords')"
   ]
  },
  {
   "cell_type": "code",
   "execution_count": 11,
   "id": "33f374fa-a7f8-4a95-80bb-cb236f3386ab",
   "metadata": {},
   "outputs": [],
   "source": [
    "stopwords = nltk.corpus.stopwords.words('english')\n",
    "\n",
    "word_frequencies = {}\n",
    "for word in nltk.word_tokenize(clean_text):\n",
    "    if word not in stopwords:\n",
    "        if word not in word_frequencies:\n",
    "            word_frequencies[word] = 1\n",
    "        else:\n",
    "            word_frequencies[word] += 1"
   ]
  },
  {
   "cell_type": "code",
   "execution_count": 12,
   "id": "da44d45d-5511-4a4f-9049-a2d51ae70a01",
   "metadata": {},
   "outputs": [],
   "source": [
    "maximum_frequency = max(word_frequencies.values())\n",
    "\n",
    "for word in word_frequencies:\n",
    "    word_frequencies[word] = word_frequencies[word] / maximum_frequency"
   ]
  },
  {
   "cell_type": "code",
   "execution_count": 13,
   "id": "1dc5b975-d8df-4533-9a69-498c34d363d3",
   "metadata": {},
   "outputs": [],
   "source": [
    "sentence_scores = {}\n",
    "\n",
    "for sentence in sentence_list:\n",
    "    for word in nltk.word_tokenize(sentence):\n",
    "        if word in word_frequencies and len(sentence.split(' ')) < 30:\n",
    "            if sentence not in sentence_scores:\n",
    "                sentence_scores[sentence] = word_frequencies[word]\n",
    "            else:\n",
    "                sentence_scores[sentence] += word_frequencies[word]"
   ]
  },
  {
   "cell_type": "code",
   "execution_count": 14,
   "id": "29f57e40-73b5-479c-b774-1acccd1f55d1",
   "metadata": {},
   "outputs": [
    {
     "data": {
      "text/plain": [
       "{'climate': 0.6,\n",
       " 'change': 0.4,\n",
       " 'driven': 0.2,\n",
       " 'primarily': 0.2,\n",
       " 'human': 0.4,\n",
       " 'activities': 0.2,\n",
       " 'combustion': 0.2,\n",
       " 'fossil': 0.2,\n",
       " 'fuels': 0.2,\n",
       " 'deforestation': 0.2,\n",
       " 'critical': 0.2,\n",
       " 'escalating': 0.2,\n",
       " 'global': 0.6,\n",
       " 'challenge': 0.2,\n",
       " 'far': 0.2,\n",
       " 'reaching': 0.2,\n",
       " 'consequences': 0.4,\n",
       " 'scientific': 0.2,\n",
       " 'community': 0.2,\n",
       " 'widely': 0.2,\n",
       " 'acknowledges': 0.2,\n",
       " 'rising': 0.2,\n",
       " 'temperatures': 0.4,\n",
       " 'altered': 0.2,\n",
       " 'precipitation': 0.2,\n",
       " 'patterns': 0.4,\n",
       " 'increasing': 0.2,\n",
       " 'frequency': 0.2,\n",
       " 'extreme': 0.2,\n",
       " 'weather': 0.4,\n",
       " 'events': 0.2,\n",
       " 'significantly': 0.2,\n",
       " 'impacting': 0.2,\n",
       " 'ecosystems': 1.0,\n",
       " 'biodiversity': 0.6,\n",
       " 'changes': 0.2,\n",
       " 'temperature': 0.2,\n",
       " 'disrupt': 0.4,\n",
       " 'delicate': 0.4,\n",
       " 'balance': 0.2,\n",
       " 'leading': 0.2,\n",
       " 'shifts': 0.2,\n",
       " 'distribution': 0.2,\n",
       " 'behavior': 0.2,\n",
       " 'numerous': 0.2,\n",
       " 'species': 0.6,\n",
       " 'rise': 0.2,\n",
       " 'many': 0.2,\n",
       " 'organisms': 0.2,\n",
       " 'forced': 0.2,\n",
       " 'migrate': 0.2,\n",
       " 'suitable': 0.2,\n",
       " 'habitats': 0.2,\n",
       " 'others': 0.2,\n",
       " 'face': 0.2,\n",
       " 'challenges': 0.2,\n",
       " 'adapting': 0.2,\n",
       " 'changing': 0.2,\n",
       " 'conditions': 0.4,\n",
       " 'additionally': 0.2,\n",
       " 'acidification': 0.2,\n",
       " 'oceans': 0.2,\n",
       " 'melting': 0.2,\n",
       " 'polar': 0.2,\n",
       " 'ice': 0.2,\n",
       " 'caps': 0.2,\n",
       " 'exacerbate': 0.2,\n",
       " 'plight': 0.2,\n",
       " 'marine': 0.2,\n",
       " 'threatening': 0.2,\n",
       " 'coral': 0.2,\n",
       " 'reefs': 0.2,\n",
       " 'alterations': 0.2,\n",
       " 'environmental': 0.4,\n",
       " 'endanger': 0.2,\n",
       " 'individual': 0.2,\n",
       " 'also': 0.4,\n",
       " 'intricate': 0.2,\n",
       " 'ecological': 0.2,\n",
       " 'relationships': 0.2,\n",
       " 'potentially': 0.2,\n",
       " 'triggering': 0.2,\n",
       " 'cascading': 0.2,\n",
       " 'effects': 0.2,\n",
       " 'throughout': 0.2,\n",
       " 'entire': 0.2,\n",
       " 'food': 0.2,\n",
       " 'webs': 0.2,\n",
       " 'consequently': 0.2,\n",
       " 'loss': 0.2,\n",
       " 'concern': 0.2,\n",
       " 'poses': 0.2,\n",
       " 'risks': 0.2,\n",
       " 'well': 0.2,\n",
       " 'provide': 0.2,\n",
       " 'essential': 0.2,\n",
       " 'services': 0.2,\n",
       " 'clean': 0.2,\n",
       " 'water': 0.2,\n",
       " 'pollination': 0.2,\n",
       " 'crops': 0.2,\n",
       " 'regulation': 0.2,\n",
       " 'scientists': 0.2,\n",
       " 'strive': 0.2,\n",
       " 'comprehend': 0.2,\n",
       " 'multifaceted': 0.2,\n",
       " 'urgent': 0.2,\n",
       " 'collaborative': 0.2,\n",
       " 'efforts': 0.2,\n",
       " 'required': 0.2,\n",
       " 'mitigate': 0.2,\n",
       " 'impacts': 0.2,\n",
       " 'promote': 0.2,\n",
       " 'sustainable': 0.2,\n",
       " 'practices': 0.2,\n",
       " 'ensure': 0.2,\n",
       " 'resilience': 0.2,\n",
       " 'preservation': 0.2,\n",
       " 'earth': 0.2,\n",
       " 'rich': 0.2,\n",
       " 'biological': 0.2,\n",
       " 'heritage': 0.2}"
      ]
     },
     "execution_count": 14,
     "metadata": {},
     "output_type": "execute_result"
    }
   ],
   "source": [
    "word_frequencies\n"
   ]
  },
  {
   "cell_type": "code",
   "execution_count": 15,
   "id": "05db7677-d1cb-4fbf-ba3a-462bbf9f37fd",
   "metadata": {},
   "outputs": [
    {
     "data": {
      "text/plain": [
       "{' climate change, driven primarily by human activities such as the combustion of fossil fuels and deforestation, is a critical and escalating global challenge with far-reaching consequences.': 4.400000000000001,\n",
       " 'the scientific community widely acknowledges that rising global temperatures, altered precipitation patterns, and the increasing frequency of extreme weather events are significantly impacting ecosystems and biodiversity.': 6.000000000000001,\n",
       " 'changes in temperature and weather patterns disrupt the delicate balance of ecosystems, leading to shifts in the distribution and behavior of numerous species.': 4.800000000000001,\n",
       " 'as temperatures rise, many organisms are forced to migrate to more suitable habitats, while others face challenges in adapting to the changing conditions.': 3.2,\n",
       " 'additionally, the acidification of oceans and the melting of polar ice caps further exacerbate the plight of marine species, threatening delicate ecosystems such as coral reefs.': 4.6,\n",
       " 'these alterations in environmental conditions not only endanger individual species but also disrupt intricate ecological relationships, potentially triggering cascading effects throughout entire food webs.': 5.000000000000002}"
      ]
     },
     "execution_count": 15,
     "metadata": {},
     "output_type": "execute_result"
    }
   ],
   "source": [
    "sentence_scores\n"
   ]
  },
  {
   "cell_type": "code",
   "execution_count": 16,
   "id": "052cebc0-7efe-485e-9994-4023c23a794d",
   "metadata": {},
   "outputs": [
    {
     "name": "stdout",
     "output_type": "stream",
     "text": [
      "the scientific community widely acknowledges that rising global temperatures, altered precipitation patterns, and the increasing frequency of extreme weather events are significantly impacting ecosystems and biodiversity. these alterations in environmental conditions not only endanger individual species but also disrupt intricate ecological relationships, potentially triggering cascading effects throughout entire food webs. changes in temperature and weather patterns disrupt the delicate balance of ecosystems, leading to shifts in the distribution and behavior of numerous species. additionally, the acidification of oceans and the melting of polar ice caps further exacerbate the plight of marine species, threatening delicate ecosystems such as coral reefs.  climate change, driven primarily by human activities such as the combustion of fossil fuels and deforestation, is a critical and escalating global challenge with far-reaching consequences.\n"
     ]
    }
   ],
   "source": [
    "# get top 5 sentences\n",
    "import heapq\n",
    "summary = heapq.nlargest(5, sentence_scores, key=sentence_scores.get)\n",
    "\n",
    "print(\" \".join(summary))"
   ]
  },
  {
   "cell_type": "code",
   "execution_count": null,
   "id": "54084320-33f2-437b-b668-069e9ccbcabd",
   "metadata": {},
   "outputs": [],
   "source": []
  }
 ],
 "metadata": {
  "kernelspec": {
   "display_name": "Python 3 (ipykernel)",
   "language": "python",
   "name": "python3"
  },
  "language_info": {
   "codemirror_mode": {
    "name": "ipython",
    "version": 3
   },
   "file_extension": ".py",
   "mimetype": "text/x-python",
   "name": "python",
   "nbconvert_exporter": "python",
   "pygments_lexer": "ipython3",
   "version": "3.11.4"
  }
 },
 "nbformat": 4,
 "nbformat_minor": 5
}
